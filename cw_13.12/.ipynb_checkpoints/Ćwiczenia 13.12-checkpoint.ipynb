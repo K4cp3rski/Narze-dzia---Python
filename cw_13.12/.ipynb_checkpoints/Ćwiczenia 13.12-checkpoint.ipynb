{
 "cells": [
  {
   "cell_type": "code",
   "execution_count": 169,
   "metadata": {},
   "outputs": [],
   "source": [
    "import numpy as np\n",
    "import os\n",
    "import timeit as tt\n",
    "from time import time"
   ]
  },
  {
   "cell_type": "code",
   "execution_count": 170,
   "metadata": {},
   "outputs": [
    {
     "name": "stdout",
     "output_type": "stream",
     "text": [
      "fatal: docelowa ścieżka „numpy” już istnieje i nie jest pustym katalogiem.\r\n"
     ]
    }
   ],
   "source": [
    "!git clone https://gitlab.mimuw.edu.pl/python-tools/numpy.git"
   ]
  },
  {
   "cell_type": "code",
   "execution_count": 171,
   "metadata": {},
   "outputs": [],
   "source": [
    "dane = np.loadtxt(os.path.join(\"numpy\", \"data\", \"sample.csv\")) \n"
   ]
  },
  {
   "cell_type": "markdown",
   "metadata": {},
   "source": [
    "Calculating $\\mu$, $\\sigma$ and median using $\\it{NumPy}$ built-in methods"
   ]
  },
  {
   "cell_type": "code",
   "execution_count": 172,
   "metadata": {},
   "outputs": [
    {
     "data": {
      "text/plain": [
       "array([ 4.94691503, 10.99194072,  5.70297971,  4.7931883 ,  8.56767517,\n",
       "        5.34767193, 10.67732819,  9.39560694,  3.47917645, 10.25436094,\n",
       "        6.07072107,  7.3652988 ,  2.18991181,  6.57155468,  9.84798032,\n",
       "        9.84603396,  6.80463049,  7.08695396,  0.15447812,  1.52738115,\n",
       "        6.02308621,  8.79927424,  3.31712018,  1.4718973 ,  9.9671283 ,\n",
       "        1.18842341,  3.89000972,  4.65700547,  4.36345686,  5.00227864,\n",
       "        4.52799787,  6.41250797,  0.54258682,  3.13997017,  2.03807796,\n",
       "        2.49668692,  3.81221355,  7.39050065,  4.46890847,  0.64129392,\n",
       "        9.35010621,  5.04422144,  1.70277208,  2.47697527, 10.65603732,\n",
       "        0.59189561,  2.23007224,  0.93923085,  4.68891885,  2.78761106,\n",
       "        8.10510477,  6.58658348,  1.76380433,  1.57481511,  5.93682241,\n",
       "       10.15480913,  2.74523044,  7.32394468,  4.57715409,  0.54699118,\n",
       "        0.87027233,  6.79752027,  1.65611123,  1.21989908,  1.17173351,\n",
       "        6.52007627,  9.00712999,  5.19505969,  2.38825841,  9.62963014,\n",
       "        1.40632367,  5.1780429 ,  3.46216164,  6.39884438,  0.63159332,\n",
       "        6.98871172,  7.47789555, 10.08932164,  0.4980772 ,  6.99075248,\n",
       "        9.77638228,  7.44417683,  2.42393614,  2.57099794, 10.70126314,\n",
       "        0.85859493,  5.01176324,  7.01090095,  1.59883212,  3.12286782,\n",
       "        8.53194571,  1.85811916,  2.15567701,  5.53350551,  4.38104156,\n",
       "        8.80810522,  8.01782021,  6.09227977,  9.23813364,  6.29910959])"
      ]
     },
     "execution_count": 172,
     "metadata": {},
     "output_type": "execute_result"
    }
   ],
   "source": [
    "dane.T[1]"
   ]
  },
  {
   "cell_type": "code",
   "execution_count": 173,
   "metadata": {},
   "outputs": [
    {
     "name": "stdout",
     "output_type": "stream",
     "text": [
      "run time = 1.697e-03s\n"
     ]
    }
   ],
   "source": [
    "t0 = time()\n",
    "results = []\n",
    "results.append(np.mean(dane, axis=0))\n",
    "results.append(np.median(dane, axis=0))\n",
    "results.append(np.std(dane, axis=0))\n",
    "tk = time()\n",
    "delta_t = tk - t0\n",
    "print(\"run time = {:0.3e}s\".format(delta_t))"
   ]
  },
  {
   "cell_type": "markdown",
   "metadata": {},
   "source": [
    "Calculating $\\mu$, $\\sigma$ and median by hand"
   ]
  },
  {
   "cell_type": "code",
   "execution_count": 174,
   "metadata": {},
   "outputs": [],
   "source": [
    "t0 = time()"
   ]
  },
  {
   "cell_type": "markdown",
   "metadata": {},
   "source": [
    "Calculating $\\mu$ by hand"
   ]
  },
  {
   "cell_type": "code",
   "execution_count": 175,
   "metadata": {
    "scrolled": true
   },
   "outputs": [
    {
     "name": "stdout",
     "output_type": "stream",
     "text": [
      "mean of consecutive columns ->  [4.950237434570932, 5.105681811552876, 6.3355206274836355, 7.135616227054834, 6.165667026001199, 8.007182438439433, 7.155124688326448, 7.67168766504046, 9.48619956160243, 8.626119936651612]\n"
     ]
    }
   ],
   "source": [
    "results_slow = []\n",
    "mean = []\n",
    "for i in range(10):\n",
    "    tmp = []\n",
    "    for j in range(len(dane)):\n",
    "        tmp.append(dane[j][i])\n",
    "#     print(len(tmp))\n",
    "    tmp = sum(tmp)/100\n",
    "    mean.append(tmp)\n",
    "results_slow.append(mean)\n",
    "print(\"mean of consecutive columns -> \", mean)"
   ]
  },
  {
   "cell_type": "markdown",
   "metadata": {},
   "source": [
    "Calculating median by hand"
   ]
  },
  {
   "cell_type": "code",
   "execution_count": 176,
   "metadata": {
    "scrolled": false
   },
   "outputs": [
    {
     "name": "stdout",
     "output_type": "stream",
     "text": [
      "median of consecutive columns ->  [5.187106238397234, 7.3458441255673765, 4.822818352475001, 7.043795379648243, 5.931298347000426, 2.318713288099309, 10.350735597220687, 5.8300074729103075, 6.505056513695816, 8.581676686344927]\n"
     ]
    }
   ],
   "source": [
    "median = []\n",
    "for i in range(10):\n",
    "    # Przygotowanie danych do pracy -> reshape do listy 1-D\n",
    "    tmp = []\n",
    "    for j in range(len(dane)):\n",
    "        tmp.append(dane[j][i])\n",
    "    if len(tmp)%2 != 0:\n",
    "        tmp = tmp[(len(tmp)-1)/2 + 1]\n",
    "        continue\n",
    "    else:\n",
    "        tmp = (tmp[int(len(tmp)/2)] + tmp[int(len(tmp)/2+1)])/2\n",
    "    median.append(tmp)\n",
    "results_slow.append(median)\n",
    "print(\"median of consecutive columns -> \", median)"
   ]
  },
  {
   "cell_type": "markdown",
   "metadata": {},
   "source": [
    "Calculating $\\sigma$ by hand"
   ]
  },
  {
   "cell_type": "code",
   "execution_count": 177,
   "metadata": {},
   "outputs": [
    {
     "name": "stdout",
     "output_type": "stream",
     "text": [
      "std_dev of consecutive columns ->  [3.0374044915490646, 3.1208456402972553, 3.536493315764369, 3.804651550496822, 3.799668788477013, 3.964651154813369, 4.616856669508539, 4.744213080221843, 4.924779798853688, 5.524285242717979]\n"
     ]
    }
   ],
   "source": [
    "std_dev = []\n",
    "for i in range(10):\n",
    "    mu = results_slow[0][i]\n",
    "    # Przygotowanie danych do pracy -> reshape do listy 1-D\n",
    "    tmp = []\n",
    "    for j in range(len(dane)):\n",
    "        tmp.append(dane[j][i])\n",
    "    num = len(tmp)\n",
    "    tmp = [(lambda x: (x-mu)**2)(x) for x in tmp]\n",
    "    tmp = sum(tmp)/num\n",
    "    tmp = np.sqrt(tmp)\n",
    "    std_dev.append(tmp)\n",
    "results_slow.append(std_dev)\n",
    "print(\"std_dev of consecutive columns -> \", std_dev)"
   ]
  },
  {
   "cell_type": "code",
   "execution_count": 178,
   "metadata": {
    "scrolled": true
   },
   "outputs": [
    {
     "name": "stdout",
     "output_type": "stream",
     "text": [
      "run time = 3.645e-02s\n"
     ]
    }
   ],
   "source": [
    "tk = time()\n",
    "delta_t_1 = tk - t0\n",
    "print(\"run time = {:0.3e}s\".format(delta_t_1))"
   ]
  },
  {
   "cell_type": "code",
   "execution_count": 179,
   "metadata": {},
   "outputs": [
    {
     "name": "stdout",
     "output_type": "stream",
     "text": [
      "Here, NumPy is 21.48349023464943 times faster\n"
     ]
    }
   ],
   "source": [
    "print(\"Here, NumPy is {} times faster\".format(delta_t_1/delta_t))"
   ]
  }
 ],
 "metadata": {
  "celltoolbar": "Raw Cell Format",
  "kernelspec": {
   "display_name": "Python 3",
   "language": "python",
   "name": "python3"
  },
  "language_info": {
   "codemirror_mode": {
    "name": "ipython",
    "version": 3
   },
   "file_extension": ".py",
   "mimetype": "text/x-python",
   "name": "python",
   "nbconvert_exporter": "python",
   "pygments_lexer": "ipython3",
   "version": "3.8.5"
  }
 },
 "nbformat": 4,
 "nbformat_minor": 4
}
