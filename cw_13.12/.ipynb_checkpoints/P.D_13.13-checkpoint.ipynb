{
 "cells": [
  {
   "cell_type": "code",
   "execution_count": 1,
   "metadata": {},
   "outputs": [],
   "source": [
    "import numpy as np\n",
    "import os"
   ]
  },
  {
   "cell_type": "code",
   "execution_count": 2,
   "metadata": {},
   "outputs": [],
   "source": [
    "dane = np.load(os.path.join(\"numpy\", \"data\", \"sample_treated.npz\")) "
   ]
  },
  {
   "cell_type": "code",
   "execution_count": 3,
   "metadata": {},
   "outputs": [],
   "source": [
    "data = np.array(dane['outputs'])"
   ]
  },
  {
   "cell_type": "markdown",
   "metadata": {},
   "source": [
    "### $\\Rightarrow$Ten array to $M\\in Mat^{1000 \\times 200}$"
   ]
  },
  {
   "cell_type": "code",
   "execution_count": 4,
   "metadata": {},
   "outputs": [
    {
     "name": "stdout",
     "output_type": "stream",
     "text": [
      "Ok. dwukrotnie wzrosły próbki o numerach -> [14, 22, 23, 24, 29, 35, 42, 46, 48, 49, 54, 64, 65, 68, 69, 84, 88, 102, 110, 115, 120, 121, 122, 125, 129, 133, 140, 146, 149, 150, 152, 153, 161, 171, 172, 186, 193, 194, 196, 197]\n"
     ]
    }
   ],
   "source": [
    "outs = np.arange(data.shape[1])\n",
    "# Data[x] to wiersz macierzy\n",
    "outs = [(lambda x: int(np.divide(np.max(data[x]), np.min(data[x]))))(x) for x in outs]\n",
    "result = []\n",
    "for i, x in enumerate(outs):\n",
    "    if x == 2:\n",
    "        result.append(i)\n",
    "print(\"Ok. dwukrotnie wzrosły próbki o numerach ->\", result)"
   ]
  }
 ],
 "metadata": {
  "kernelspec": {
   "display_name": "Python 3",
   "language": "python",
   "name": "python3"
  },
  "language_info": {
   "codemirror_mode": {
    "name": "ipython",
    "version": 3
   },
   "file_extension": ".py",
   "mimetype": "text/x-python",
   "name": "python",
   "nbconvert_exporter": "python",
   "pygments_lexer": "ipython3",
   "version": "3.8.5"
  }
 },
 "nbformat": 4,
 "nbformat_minor": 4
}
